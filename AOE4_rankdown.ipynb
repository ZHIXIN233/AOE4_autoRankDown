{
 "cells": [
  {
   "cell_type": "code",
   "id": "initial_id",
   "metadata": {
    "collapsed": true,
    "ExecuteTime": {
     "end_time": "2025-02-24T19:44:51.103940Z",
     "start_time": "2025-02-24T19:44:50.190426Z"
    }
   },
   "source": [
    "import cv2\n",
    "import pynput\n",
    "from pynput.mouse import Controller, Button\n",
    "from SIFT import find_target_image_in_screen as find\n",
    "import random\n",
    "import time\n",
    "import os\n",
    "import pyautogui"
   ],
   "outputs": [],
   "execution_count": 1
  },
  {
   "metadata": {
    "ExecuteTime": {
     "end_time": "2025-02-26T18:05:05.257103Z",
     "start_time": "2025-02-26T18:05:05.234324Z"
    }
   },
   "cell_type": "code",
   "source": [
    "max_run_time = 3600*2\n",
    "max_fail = 10\n",
    "screen_width, screen_height = 2560, 1600"
   ],
   "id": "71068fd8a674142c",
   "outputs": [],
   "execution_count": 7
  },
  {
   "metadata": {
    "ExecuteTime": {
     "end_time": "2025-02-26T18:05:05.769089Z",
     "start_time": "2025-02-26T18:05:05.731043Z"
    }
   },
   "cell_type": "code",
   "source": [
    "mouse = Controller()\n",
    "keyboard = pynput.keyboard.Controller()\n",
    "def click_like_human(x, y):\n",
    "    x, y = int(x), int(y)\n",
    "    current_x, current_y = mouse.position\n",
    "    steps = random.randint(10, 30)  # Number of steps for gradual movement\n",
    "\n",
    "    for step in range(steps):\n",
    "        intermediate_x = current_x + (x - current_x) * (step + 1) / steps + random.uniform(-1, 1)\n",
    "        intermediate_y = current_y + (y - current_y) * (step + 1) / steps + random.uniform(-1, 1)\n",
    "        mouse.position = (intermediate_x, intermediate_y)\n",
    "        time.sleep(random.uniform(0.01, 0.05))  # Small delay to mimic natural movement\n",
    "\n",
    "    mouse.position = (x, y)  # Ensure final position is exact\n",
    "    time.sleep(0.3)\n",
    "    mouse.click(Button.left)\n",
    "\n",
    "def try_to_find(image_path, max_fail=max_fail, quit_on_fail=True, screenshot=None, region=None, tuning=False, ratio_threshold=0.5, response_threshold=0.02, good_match_threshold=0.7):\n",
    "    fail = 0\n",
    "    found = False\n",
    "    while not found:\n",
    "        found, bounding_box = find(image_path, screenshot=screenshot, region=region, tuning=tuning, ratio_threshold=ratio_threshold, response_threshold=response_threshold, good_match_threshold=good_match_threshold)\n",
    "        fail += 1\n",
    "        if fail > max_fail:\n",
    "            if quit_on_fail:\n",
    "                raise EOFError(f\"Could not find image {image_path}\")\n",
    "            else:\n",
    "                return False, None\n",
    "    return True, bounding_box\n",
    "\n",
    "def find_and_click(target_image, click_region=(0, 1, 0, 1), max_fail=max_fail, quit_on_fail=True, screenshot=None, region=None, tuning=False, ratio_threshold=0.5, response_threshold=0.02, good_match_threshold=0.7):\n",
    "    x_min_click, x_max_click, y_min_click, y_max_click = click_region\n",
    "\n",
    "    found, bounding_box = try_to_find(target_image, max_fail=max_fail, quit_on_fail=quit_on_fail, screenshot=screenshot, region=region, tuning=tuning, ratio_threshold=ratio_threshold, response_threshold=response_threshold, good_match_threshold=good_match_threshold)\n",
    "    if found:\n",
    "        x_min, y_min, width, height = bounding_box\n",
    "        x, y = x_min + (width * (random.uniform(x_min_click, x_max_click))), y_min + (height * (random.uniform(y_min_click, y_max_click)))\n",
    "        click_like_human(x, y)\n",
    "    return found, bounding_box\n",
    "\n",
    "def lose_the_game():\n",
    "    # Step 1: 点击屏幕正中心\n",
    "    click_like_human(int(screen_width/2), int(screen_height/2))\n",
    "\n",
    "    # Step 2: 快速按 5 下 W\n",
    "    for _ in range(5):\n",
    "        keyboard.press('w')\n",
    "        time.sleep(0.1)\n",
    "        keyboard.release('w')\n",
    "        time.sleep(0.15)\n",
    "\n",
    "    # Step 3: 等待 50 秒\n",
    "    time.sleep(50)\n",
    "\n",
    "    # Step 4: 按下 ctrl_l + shift + A\n",
    "    from pynput.keyboard import Key\n",
    "    with keyboard.pressed(Key.ctrl_l):\n",
    "        with keyboard.pressed(Key.shift):\n",
    "            keyboard.press('a')\n",
    "            time.sleep(0.1)\n",
    "            keyboard.release('a')\n",
    "\n",
    "    # Step 5: 按下 del 键 3 秒\n",
    "    keyboard.press(Key.delete)\n",
    "    time.sleep(3)\n",
    "    keyboard.release(Key.delete)\n",
    "\n",
    "def reset_mouse():\n",
    "    mouse.position = (50, 50)\n",
    "\n",
    "\n",
    "import pytesseract\n",
    "import sys\n",
    "if sys.platform == \"darwin\":\n",
    "    import ssl\n",
    "    ssl._create_default_https_context = ssl._create_unverified_context\n",
    "    useGPU = True\n",
    "    Tess_Path = r'/opt/homebrew/bin/tesseract'\n",
    "else:\n",
    "    useGPU = False\n",
    "    Tess_Path = r'C:\\Program Files\\Tesseract-OCR\\tesseract.exe'\n",
    "\n",
    "pytesseract.pytesseract.tesseract_cmd = Tess_Path"
   ],
   "id": "4c7a8211ad5d7feb",
   "outputs": [],
   "execution_count": 8
  },
  {
   "metadata": {
    "ExecuteTime": {
     "end_time": "2025-02-26T18:05:06.626021Z",
     "start_time": "2025-02-26T18:05:06.598094Z"
    }
   },
   "cell_type": "code",
   "source": [
    "screenshot_now = None\n",
    "\n",
    "class StateMaChine:\n",
    "    def __init__(self, handling_table, state_table):\n",
    "        self.state_table = state_table\n",
    "        self.handling_table = handling_table\n",
    "        self.state = \"unknown\"\n",
    "\n",
    "    def detect_state(self, screenshot=None, region=None, tuning=False, ratio_threshold=0.5, response_threshold=0.02, good_match_threshold=0.7):\n",
    "        states = {}\n",
    "        for imgPath in os.listdir(\"tar_image_AOE4\"):\n",
    "            if imgPath in self.state_table.keys():\n",
    "                if imgPath == 'match_abstract.png':\n",
    "                    good_match_threshold = 0.95\n",
    "                found, bounding_box, _, _, _, _, _, good_match_ratio = find(os.path.join('tar_image_AOE4', imgPath), screenshot=screenshot, region=region, tuning=tuning, ratio_threshold=ratio_threshold, response_threshold=response_threshold, good_match_threshold=good_match_threshold, return_full_detail=True)\n",
    "                if found:\n",
    "                    if self.state_table[imgPath] == 'in game':\n",
    "                        global screenshot_now\n",
    "                        x_min, y_min, width, height = bounding_box\n",
    "                        screenshot_now = pyautogui.screenshot()\n",
    "                        try:\n",
    "                            screenshot_cropped = screenshot_now.crop((x_min+55, y_min, x_min+width-100, y_min+height/4))\n",
    "                            extracted_text = pytesseract.image_to_string(screenshot_cropped)\n",
    "                            if any(s in extracted_text for s in ['0/0', 'o/o', 'o/0', '0/o']):\n",
    "                                good_match_ratio = 0\n",
    "                        except ValueError:\n",
    "                            good_match_ratio = 0\n",
    "                else:\n",
    "                    good_match_ratio = 0\n",
    "\n",
    "                states.update({imgPath : good_match_ratio})\n",
    "        print(states)\n",
    "        # Selects the state with heighest probability\n",
    "        imgPath = max(states, key=states.get)\n",
    "        if states[imgPath] == 0:\n",
    "            self.state = \"unknown\"\n",
    "            return False\n",
    "        else:\n",
    "            self.state = self.state_table[imgPath]\n",
    "            return True\n",
    "\n",
    "    def act(self, dummy_action = False):\n",
    "        if self.state in self.handling_table.keys():\n",
    "            if dummy_action:\n",
    "                print(f\"dummy_action: {self.state}\")\n",
    "            else:\n",
    "                self.handling_table[self.state]()\n",
    "        else:\n",
    "            pass\n"
   ],
   "id": "74ef710d58a6552c",
   "outputs": [],
   "execution_count": 9
  },
  {
   "metadata": {
    "ExecuteTime": {
     "end_time": "2025-02-26T18:05:09.050166Z",
     "start_time": "2025-02-26T18:05:09.038702Z"
    }
   },
   "cell_type": "code",
   "source": [
    "state_table = {\n",
    "    'match_abstract.png' : 'game ends',\n",
    "    'play_again.png' : 'match abstract',\n",
    "    'right_down_UI.png' :'in game',\n",
    "    'search_game.png' : 'front page'\n",
    "}\n",
    "\n",
    "handling_table = {\n",
    "    'game ends' : lambda : find_and_click('tar_image_AOE4/match_abstract.png', click_region=(0.1, 0.9, 0.1, 0.9), ratio_threshold=0.4, good_match_threshold=0.9, max_fail=10, quit_on_fail=False),\n",
    "    'match abstract' : lambda : find_and_click('tar_image_AOE4/play_again.png', click_region=(0.1, 0.9, 0.1, 0.9), ratio_threshold=0.4, good_match_threshold=0.9, max_fail=10, quit_on_fail=False),\n",
    "    'in game' : lambda : lose_the_game(),\n",
    "    'front page' : lambda : find_and_click('tar_image_AOE4/search_game.png', click_region=(0.1, 0.9, 0.1, 0.9), max_fail=10, quit_on_fail=False),\n",
    "    'unknown' : lambda : reset_mouse(),\n",
    "}"
   ],
   "id": "3fb7d8f1040f6457",
   "outputs": [],
   "execution_count": 10
  },
  {
   "metadata": {
    "ExecuteTime": {
     "end_time": "2025-02-24T19:45:04.009383Z",
     "start_time": "2025-02-24T19:44:52.663016Z"
    }
   },
   "cell_type": "code",
   "source": [
    "time.sleep(2)\n",
    "t0 = time.time()\n",
    "sm = StateMaChine(handling_table, state_table)\n",
    "while True:\n",
    "    sm.detect_state(ratio_threshold=0.5, good_match_threshold=0.85)\n",
    "    print(f\"current state: {sm.state}\")\n",
    "    if (time.time() - t0 > max_run_time) and (sm.state == \"game ends\" or sm.state == \"match abstract\"):\n",
    "        break\n",
    "    sm.act(dummy_action=False)\n",
    "    time.sleep(2)"
   ],
   "id": "fd2b2e2ee8a82723",
   "outputs": [
    {
     "name": "stdout",
     "output_type": "stream",
     "text": [
      "{'match_abstract.png': 0, 'play_again.png': 0, 'right_down_UI.png': 0, 'search_game.png': 0}\n",
      "current state: unknown\n",
      "dummy_action: unknown\n"
     ]
    },
    {
     "ename": "KeyboardInterrupt",
     "evalue": "",
     "output_type": "error",
     "traceback": [
      "\u001B[1;31m---------------------------------------------------------------------------\u001B[0m",
      "\u001B[1;31mKeyboardInterrupt\u001B[0m                         Traceback (most recent call last)",
      "Cell \u001B[1;32mIn[6], line 5\u001B[0m\n\u001B[0;32m      3\u001B[0m sm \u001B[38;5;241m=\u001B[39m StateMaChine(handling_table, state_table)\n\u001B[0;32m      4\u001B[0m \u001B[38;5;28;01mwhile\u001B[39;00m \u001B[38;5;28;01mTrue\u001B[39;00m:\n\u001B[1;32m----> 5\u001B[0m     \u001B[43msm\u001B[49m\u001B[38;5;241;43m.\u001B[39;49m\u001B[43mdetect_state\u001B[49m\u001B[43m(\u001B[49m\u001B[43mratio_threshold\u001B[49m\u001B[38;5;241;43m=\u001B[39;49m\u001B[38;5;241;43m0.5\u001B[39;49m\u001B[43m,\u001B[49m\u001B[43m \u001B[49m\u001B[43mgood_match_threshold\u001B[49m\u001B[38;5;241;43m=\u001B[39;49m\u001B[38;5;241;43m0.85\u001B[39;49m\u001B[43m)\u001B[49m\n\u001B[0;32m      6\u001B[0m     \u001B[38;5;28mprint\u001B[39m(\u001B[38;5;124mf\u001B[39m\u001B[38;5;124m\"\u001B[39m\u001B[38;5;124mcurrent state: \u001B[39m\u001B[38;5;132;01m{\u001B[39;00msm\u001B[38;5;241m.\u001B[39mstate\u001B[38;5;132;01m}\u001B[39;00m\u001B[38;5;124m\"\u001B[39m)\n\u001B[0;32m      7\u001B[0m     \u001B[38;5;28;01mif\u001B[39;00m (time\u001B[38;5;241m.\u001B[39mtime() \u001B[38;5;241m-\u001B[39m t0 \u001B[38;5;241m>\u001B[39m max_run_time) \u001B[38;5;129;01mand\u001B[39;00m (sm\u001B[38;5;241m.\u001B[39mstate \u001B[38;5;241m==\u001B[39m \u001B[38;5;124m\"\u001B[39m\u001B[38;5;124mgame ends\u001B[39m\u001B[38;5;124m\"\u001B[39m \u001B[38;5;129;01mor\u001B[39;00m sm\u001B[38;5;241m.\u001B[39mstate \u001B[38;5;241m==\u001B[39m \u001B[38;5;124m\"\u001B[39m\u001B[38;5;124mmatch abstract\u001B[39m\u001B[38;5;124m\"\u001B[39m):\n",
      "Cell \u001B[1;32mIn[4], line 15\u001B[0m, in \u001B[0;36mStateMaChine.detect_state\u001B[1;34m(self, screenshot, region, tuning, ratio_threshold, response_threshold, good_match_threshold)\u001B[0m\n\u001B[0;32m     13\u001B[0m \u001B[38;5;28;01mif\u001B[39;00m imgPath \u001B[38;5;241m==\u001B[39m \u001B[38;5;124m'\u001B[39m\u001B[38;5;124mmatch_abstract.png\u001B[39m\u001B[38;5;124m'\u001B[39m:\n\u001B[0;32m     14\u001B[0m     good_match_threshold \u001B[38;5;241m=\u001B[39m \u001B[38;5;241m0.95\u001B[39m\n\u001B[1;32m---> 15\u001B[0m found, bounding_box, _, _, _, _, _, good_match_ratio \u001B[38;5;241m=\u001B[39m \u001B[43mfind\u001B[49m\u001B[43m(\u001B[49m\u001B[43mos\u001B[49m\u001B[38;5;241;43m.\u001B[39;49m\u001B[43mpath\u001B[49m\u001B[38;5;241;43m.\u001B[39;49m\u001B[43mjoin\u001B[49m\u001B[43m(\u001B[49m\u001B[38;5;124;43m'\u001B[39;49m\u001B[38;5;124;43mtar_image_AOE4\u001B[39;49m\u001B[38;5;124;43m'\u001B[39;49m\u001B[43m,\u001B[49m\u001B[43m \u001B[49m\u001B[43mimgPath\u001B[49m\u001B[43m)\u001B[49m\u001B[43m,\u001B[49m\u001B[43m \u001B[49m\u001B[43mscreenshot\u001B[49m\u001B[38;5;241;43m=\u001B[39;49m\u001B[43mscreenshot\u001B[49m\u001B[43m,\u001B[49m\u001B[43m \u001B[49m\u001B[43mregion\u001B[49m\u001B[38;5;241;43m=\u001B[39;49m\u001B[43mregion\u001B[49m\u001B[43m,\u001B[49m\u001B[43m \u001B[49m\u001B[43mtuning\u001B[49m\u001B[38;5;241;43m=\u001B[39;49m\u001B[43mtuning\u001B[49m\u001B[43m,\u001B[49m\u001B[43m \u001B[49m\u001B[43mratio_threshold\u001B[49m\u001B[38;5;241;43m=\u001B[39;49m\u001B[43mratio_threshold\u001B[49m\u001B[43m,\u001B[49m\u001B[43m \u001B[49m\u001B[43mresponse_threshold\u001B[49m\u001B[38;5;241;43m=\u001B[39;49m\u001B[43mresponse_threshold\u001B[49m\u001B[43m,\u001B[49m\u001B[43m \u001B[49m\u001B[43mgood_match_threshold\u001B[49m\u001B[38;5;241;43m=\u001B[39;49m\u001B[43mgood_match_threshold\u001B[49m\u001B[43m,\u001B[49m\u001B[43m \u001B[49m\u001B[43mreturn_full_detail\u001B[49m\u001B[38;5;241;43m=\u001B[39;49m\u001B[38;5;28;43;01mTrue\u001B[39;49;00m\u001B[43m)\u001B[49m\n\u001B[0;32m     16\u001B[0m \u001B[38;5;28;01mif\u001B[39;00m found:\n\u001B[0;32m     17\u001B[0m     \u001B[38;5;28;01mif\u001B[39;00m \u001B[38;5;28mself\u001B[39m\u001B[38;5;241m.\u001B[39mstate_table[imgPath] \u001B[38;5;241m==\u001B[39m \u001B[38;5;124m'\u001B[39m\u001B[38;5;124min game\u001B[39m\u001B[38;5;124m'\u001B[39m:\n",
      "File \u001B[1;32mD:\\pycharmProjects\\AOE4_autoRankDown\\SIFT.py:37\u001B[0m, in \u001B[0;36mfind_target_image_in_screen\u001B[1;34m(target_image, screenshot, region, tuning, ratio_threshold, response_threshold, good_match_threshold, return_full_detail)\u001B[0m\n\u001B[0;32m     35\u001B[0m     \u001B[38;5;28;01melse\u001B[39;00m:\n\u001B[0;32m     36\u001B[0m         screenshot \u001B[38;5;241m=\u001B[39m pyautogui\u001B[38;5;241m.\u001B[39mscreenshot()\n\u001B[1;32m---> 37\u001B[0m screenshot \u001B[38;5;241m=\u001B[39m \u001B[43mnp\u001B[49m\u001B[38;5;241;43m.\u001B[39;49m\u001B[43marray\u001B[49m\u001B[43m(\u001B[49m\u001B[43mscreenshot\u001B[49m\u001B[43m)\u001B[49m\n\u001B[0;32m     38\u001B[0m screenshot_gray \u001B[38;5;241m=\u001B[39m cv2\u001B[38;5;241m.\u001B[39mcvtColor(screenshot, cv2\u001B[38;5;241m.\u001B[39mCOLOR_RGB2GRAY)\n\u001B[0;32m     40\u001B[0m \u001B[38;5;66;03m# Read the target image or use it directly if already a numpy array\u001B[39;00m\n",
      "\u001B[1;31mKeyboardInterrupt\u001B[0m: "
     ]
    }
   ],
   "execution_count": 6
  },
  {
   "metadata": {},
   "cell_type": "code",
   "outputs": [],
   "execution_count": null,
   "source": "",
   "id": "c0c4af034dfe8b43"
  }
 ],
 "metadata": {
  "kernelspec": {
   "display_name": "Python 3",
   "language": "python",
   "name": "python3"
  },
  "language_info": {
   "codemirror_mode": {
    "name": "ipython",
    "version": 2
   },
   "file_extension": ".py",
   "mimetype": "text/x-python",
   "name": "python",
   "nbconvert_exporter": "python",
   "pygments_lexer": "ipython2",
   "version": "2.7.6"
  }
 },
 "nbformat": 4,
 "nbformat_minor": 5
}
